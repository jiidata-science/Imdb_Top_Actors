{
 "cells": [
  {
   "cell_type": "markdown",
   "metadata": {},
   "source": [
    "# Exploring imdb’s most featured actors\n",
    "\n",
    "## Scraping, exploring & visualising most featured actors in IMDb’s Top 250 movies, with BeautifulSoup, Pandas & Plotly\n",
    "\n",
    "### Introduction & Purpose\n",
    "\n",
    "\n",
    "So here it is…my first article (hopefully not my last). I decided to kick-off my series with a look at IMDb’s Top 250 rated movies. More specifically, in this article, we scrape IMDb’s top rated movies, along with their corresponding cast & crew listings, and explore who the “real movie superstars” are - essentially, which actors feature in the most/multiple top rated movies?\n",
    "\n",
    "I began this project with the naive assumption that these “superstars” would all be well-known household names; the likes of Katharine Hepburn, Robert De Niro and Jack Nicholson - similar to IMDb’s list of 100 greatest actors & actresses of all time - BUT this analysis resulted in some suprising finds!\n",
    "\n",
    "For this project we used Python, and a selection of libraries, for data collection, exploration and visualisation. This article includes a selection of Python code-blocks and visualisations that help us to explore and draw insights from the data. The full codeset is available on Github as a Jupyter notebook.\n",
    "\n",
    "Motivation\n",
    "So why did I chose to explore this random and niche topic? Well, primarily I wanted to demonstrate use of web scraping technology to collect data that wasn’t otherwise readily available in the desired format (yawn!). The second reason was merely because I enjoy watching movies - hardly a unique interest - so, I was inately interested in the data itself.\n",
    "\n",
    "What we’ll be looking at\n",
    "- Part 1 (of 5): Importing Required Python Libraries\n",
    "- Part 2 (of 5): Data collection - Scraping IMDb’s Top 250 Rated Movies, using BeautifulSoup\n",
    "- Part 3 (of 5): Data collection - Scraping Movie Genre & Full Cast + Crew, using BeautifulSoup\n",
    "- Part 4 (of 5): Data Exploration - Visualising Movie Ratings, with Pandas and Plotly\n",
    "- Part 5 (of 5): Data Exploration - Who Really Are The Best Actors?, with Pandas and Plotly\n",
    "\n",
    "Additional note: whilst IMDb does NOT readily offer APIs for accessing movie information (which seemed a little suprising to me) they do offer a number of static datasets. I chose not use these datasets and scraped what I needed directly from the IMDb.com.\n"
   ]
  },
  {
   "cell_type": "markdown",
   "metadata": {},
   "source": [
    "### Part 1 of 5: Importing Required Python Libraries\n"
   ]
  },
  {
   "cell_type": "markdown",
   "metadata": {},
   "source": [
    "This step is pretty trivial so little explanation is needed, in addition to the commented code-block below. It is perhaps useful to note, however, that in order to use Plotly, within a jupyter notebook, I had to use the plotly.offline configuration and specify init_notebook_mode(connected=True) ."
   ]
  },
  {
   "cell_type": "code",
   "execution_count": 1,
   "metadata": {},
   "outputs": [
    {
     "data": {
      "text/html": [
       "<script>requirejs.config({paths: { 'plotly': ['https://cdn.plot.ly/plotly-latest.min']},});if(!window.Plotly) {{require(['plotly'],function(plotly) {window.Plotly=plotly;});}}</script>"
      ],
      "text/vnd.plotly.v1+html": [
       "<script>requirejs.config({paths: { 'plotly': ['https://cdn.plot.ly/plotly-latest.min']},});if(!window.Plotly) {{require(['plotly'],function(plotly) {window.Plotly=plotly;});}}</script>"
      ]
     },
     "metadata": {},
     "output_type": "display_data"
    }
   ],
   "source": [
    "\n",
    "# libraries for requesting and scraping web pages\n",
    "import certifi\n",
    "import urllib3\n",
    "http = urllib3.PoolManager(cert_reqs='CERT_REQUIRED', ca_certs=certifi.where())\n",
    "from bs4 import BeautifulSoup\n",
    "\n",
    "# libraries for structuring data\n",
    "import pandas as pd\n",
    "import numpy as np\n",
    "import csv\n",
    "\n",
    "# libraries for fitting models/relationships (exploratory analysis)\n",
    "from scipy import polyfit, polyval\n",
    "from scipy.interpolate import CubicSpline\n",
    "\n",
    "# libraries (and configuration) for visualisation with Plotly\n",
    "import plotly.graph_objs as go\n",
    "from plotly import __version__\n",
    "from plotly.offline import download_plotlyjs, init_notebook_mode, plot, iplot\n",
    "init_notebook_mode(connected=True)\n",
    "%matplotlib inline\n"
   ]
  },
  {
   "cell_type": "markdown",
   "metadata": {},
   "source": [
    "## Part 2 (of 5): Data collection - Scraping IMDb’s Top 250 Rated Movies\n",
    "\n",
    "Data captured on 27th July 2018\n",
    "\n",
    "We begun collecting data using urlib3 and beautifulSoup libraries to scrape the Top 250 movies (https://www.imdb.com/chart/top) from IMDb’s Top 250 movie charts. We captured each movie title, along with it’s official IMDb ranking and rating. All the data we required could be found within the html table with class = ‘chart full-width’, on the IMDb web page (highlighted in the printscreen below).\n"
   ]
  },
  {
   "cell_type": "code",
   "execution_count": 14,
   "metadata": {},
   "outputs": [
    {
     "data": {
      "text/plain": [
       "[['tt0111161', '1', 'The Shawshank Redemption', 1994, '9.2'],\n",
       " ['tt0068646', '2', 'The Godfather', 1972, '9.2'],\n",
       " ['tt0071562', '3', 'The Godfather: Part II', 1974, '9.0'],\n",
       " ['tt0468569', '4', 'The Dark Knight', 2008, '9.0'],\n",
       " ['tt0050083', '5', '12 Angry Men', 1957, '8.9']]"
      ]
     },
     "execution_count": 14,
     "metadata": {},
     "output_type": "execute_result"
    }
   ],
   "source": [
    "\n",
    "ds_top250Movies = [] # empty list object. We'll be storing scraped data in this\n",
    "\n",
    "# IMDb page url for Top 250 rated movies\n",
    "url_imdbTop250 = 'https://www.imdb.com/chart/top'\n",
    "\n",
    "# Executre web page request\n",
    "page_imdbTop250 = http.request('GET', url_imdbTop250)\n",
    "\n",
    "# Allow for page exploration using BeautifulSoup (i.e.'soupify' returned webpage)\n",
    "soup_Top250 = BeautifulSoup(page_imdbTop250.data, \"lxml\")\n",
    "\n",
    "# Subset returned webpage - select Top Rated Movies 'table' only\n",
    "table = soup_Top250.find('table', attrs={'class':'chart full-width'})\n",
    "table_body = table.find('tbody') # further subset the page. select only the table body\n",
    "rows = table_body.find_all('tr') # find all rows within top 250 rated movies table\n",
    "\n",
    "# For each row in table extract the: rank, movie name, year published and Imdb rating\n",
    "for row in rows:\n",
    "    cols = row.find_all('td')\n",
    "    cols = [ele.text.strip() for ele in cols]\n",
    "    movie_name_string = cols[1]\n",
    "    movie_rank = movie_name_string[:movie_name_string.index('.')] \n",
    "    movie_year = int(movie_name_string[-5:-1])\n",
    "    movie_name = movie_name_string[movie_name_string.index('.')+1:movie_name_string.index('(')].strip()\n",
    "    movie_rating = cols[2]\n",
    "\n",
    "    # retrieve the IMDb movieId (bespoke) for each movie\n",
    "    movieIdHTML = row.find(\"div\", {\"class\":\"wlb_ribbon\"})\n",
    "    movieId = movieIdHTML.attrs['data-tconst']\n",
    "    \n",
    "    # for each row, append selected attributes to the table_data object\n",
    "    ds_top250Movies.append([movieId , movie_rank, movie_name, movie_year, movie_rating]) \n",
    "    \n",
    "    # delete transient variables\n",
    "    del movieId , movie_rank, movie_name, movie_year, movie_rating\n",
    "\n",
    "ds_top250Movies[:5] # print the top 5 results\n"
   ]
  },
  {
   "cell_type": "markdown",
   "metadata": {},
   "source": [
    "## Part 3 (of 5): Data collection - Scraping Movie Genre & Full Cast + Crew\n",
    "\n",
    "Having captured all of the top rated movie names, and some additional information, I then focused on capturing the genre and full cast and crew, for each movie. This data allowed us to explore actors that featured across multiple top rated movies.\n",
    "\n",
    "On IMDb.com, each listed movie has its own landing page, covering a summary of movie information, and a separate page for viewing the corresponding full cast & crew. Providing that you use the IMDb ‘film_id’ (i.e. a bespoke ID that IMDb have created to uniquely store movie-level data) it’s very simple to manipulate a couple of IMDb page URLs to retrieve the information we’re after:\n",
    "\n",
    "- https://www.imdb.com/title/{film_id} : used to retrieve film genre. Replace {film_id} with integer movie ID value (example: https://www.imdb.com/title/tt0111161 for Shawshank Redemption).\n",
    "\n",
    "- https://www.imdb.com/title/{film_id}/fullcredits : used to retrieve full cast & crew. Replace {film_id} with integer movie ID value (example: https://www.imdb.com/title/tt0111161/fullcredits for Shawshank Redemption full cast & crew).\n",
    "\n",
    "We actually already had the movieIDs in the output dataset we collected in Part 2. These IDs were found in the html table structure within the class = ‘wlb_ribbon’. With these movieIDs, we iteratively constructed movie-specific URLs and scraped the data we were after, illustrated in the code block, below.\n"
   ]
  },
  {
   "cell_type": "code",
   "execution_count": 30,
   "metadata": {},
   "outputs": [
    {
     "name": "stdout",
     "output_type": "stream",
     "text": [
      "[INFO] Scraping film no. 25 of 250\n",
      "[INFO] Scraping film no. 50 of 250\n",
      "[INFO] Scraping film no. 75 of 250\n",
      "[INFO] Scraping film no. 100 of 250\n",
      "[INFO] Scraping film no. 125 of 250\n",
      "[INFO] Scraping film no. 150 of 250\n",
      "[INFO] Scraping film no. 175 of 250\n",
      "[INFO] Scraping film no. 200 of 250\n",
      "[INFO] Scraping film no. 225 of 250\n",
      "[INFO] Scraping film no. 250 of 250\n"
     ]
    }
   ],
   "source": [
    "\n",
    "# Empty list objects. We'll be storing scraped data in this\n",
    "ds_movieGenre = [] # will store the movieID and movie genre(s)\n",
    "ds_castAndCrew = [] # will store the full cast & crew per movie\n",
    "\n",
    "# movieIds for each of the 250 x movies (in ranked order by default)\n",
    "lst_movieIds = [movieId[0] for movieId in ds_top250Movies]\n",
    "\n",
    "# for each movie, using the film ID:\n",
    "for idx, movieID in enumerate(lst_movieIds):    \n",
    "    \n",
    "    counter = idx + 1\n",
    "    if counter % 25 == 0: # print to log every n iterations\n",
    "        print(\"[INFO] Scraping film no. {0} of {1}\".format(counter,len(lst_movieIds)))\n",
    "        \n",
    "    # Part 1 ----------------------------------------\n",
    "    # construct the movie title page and cast/crew page URLs (using the movieID)\n",
    "    \n",
    "    movieID_homePageURL = \"https://www.imdb.com/title/{0}\".format(movieID) # used to retrieve genre\n",
    "    movieID_castURL = \"https://www.imdb.com/title/{0}/fullcredits\".format(movieID) # used to retrieve full cast\n",
    "    \n",
    "    # Part 2 ----------------------------------------\n",
    "    # Retrieve the movie Genre from the movie title page\n",
    "    \n",
    "    # request movie home page to return genre\n",
    "    html_movieHomePage = http.request('GET', movieID_homePageURL)\n",
    "    soup_movieHomePage = BeautifulSoup(html_movieHomePage.data, \"lxml\")\n",
    "    soup_getGenre = soup_movieHomePage.findAll('div', {'class':'see-more inline canwrap'})\n",
    "    genre_clean = str(soup_getGenre[1].getText()).replace('\\n' , '').replace('Genres: ', '')\n",
    "    \n",
    "    # append derived data to output list\n",
    "    ds_movieGenre.append([movieID , movieID_castURL , movieID_homePageURL, genre_clean])\n",
    "    \n",
    "    # Part 3 ----------------------------------------\n",
    "    # Retrieve the full cast & crew from the movie cast/crew page\n",
    "    \n",
    "    # query the website and return the html to the variable ‘page’\n",
    "    html_castAndCrew = http.request('GET', movieID_castURL)\n",
    "    soup_castAndCrew = BeautifulSoup(html_castAndCrew.data, \"lxml\")\n",
    "    table_castAndCrew = soup_castAndCrew.find('table', {'class':'cast_list'})\n",
    "    \n",
    "    # select cast list\n",
    "    # here we are retrieving the second column (i.e. index 1) from each row within the table\n",
    "    list_castAndCrew = []\n",
    "    for cast in table_castAndCrew.findAll('tr'):\n",
    "        for idx, td in enumerate(cast.findAll('td')):\n",
    "            if idx == 1:\n",
    "                list_castAndCrew.append(td.getText())\n",
    "    ds_castAndCrew.append(list_castAndCrew)  \n",
    "    \n",
    "    # delete transient variables\n",
    "    del movieID, movieID_castURL, movieID_homePageURL, genre_clean, html_movieHomePage, soup_movieHomePage, soup_getGenre, \\\n",
    "    list_castAndCrew, html_castAndCrew, soup_castAndCrew, table_castAndCrew\n"
   ]
  },
  {
   "cell_type": "markdown",
   "metadata": {},
   "source": [
    "Having completed our data collection, we had the following local datasets:\n",
    "\n",
    "1. **ds_top250Movies**: contains the following attributes for each movie ([movieID, movie_rank, movie_name, movie_year, movie_rating])\n",
    "2. **ds_movieGenre**: contains the following attributes for each movie ([movieID , filmID_castURL , filmID_homePageURL, genre_clean])\n",
    "2. **ds_castAndCrew**: contains the full name for each full cast & crew member, for each movie (e.g. [['Robert DeNiro', 'Julia Roberts']])\n",
    "\n",
    "Then we were able to start exploring!"
   ]
  },
  {
   "cell_type": "code",
   "execution_count": null,
   "metadata": {},
   "outputs": [],
   "source": [
    "\n",
    "# This code block exports the scraped data sets into csv files\n",
    "# you must first create a Data/ directory within your repository\n",
    "# saving scraped data to disk\n",
    "\n",
    "# movie rankings\n",
    "with open(\"Data/movie_ratings.csv\", 'w') as f:\n",
    "    wr = csv.writer(f, quoting=csv.QUOTE_ALL)\n",
    "    wr.writerow(table_data)\n",
    "    \n",
    "# cast and crew\n",
    "with open(\"Data/movie_cast_and_crew.csv\", 'w') as myfile:\n",
    "    wr = csv.writer(myfile, quoting=csv.QUOTE_ALL)\n",
    "    wr.writerow(base_castAndCrew)\n",
    "    "
   ]
  },
  {
   "cell_type": "markdown",
   "metadata": {},
   "source": [
    "## Part 4 (of 5): Data Exploration - Visualising Movie Ratings\n",
    "\n",
    "I began by exploring the movie ratings themselves; asking questions of the data such as **Is there a linear relationsip between movie ranking and movie rating?** and **Which movie genres typically have higher ratings?**.\n",
    "\n",
    "The boxplot below illustrates the distribution of IMDb movie ratings. With a median movie rating of 8.2 and an upper fence of 8.8, the boxplot identifies seven 'outliers' that have anomalously high ratings. To no suprise, these top rated films include well-known favourites, such as [1] The Shawshank Redemption, [2] The Godfather, [3] The Godfather: Part II, [4] The Dark Knight, and [5] 12 Angry Men. Take a look for yourself...\n"
   ]
  },
  {
   "cell_type": "code",
   "execution_count": 34,
   "metadata": {},
   "outputs": [],
   "source": [
    "\n",
    "# we first unlist our rankings, ratings and movie names into three variables\n",
    "ranking = [float(rank[1]) for rank in ds_top250Movies]\n",
    "rating = [float(rating[4]) for rating in ds_top250Movies]\n",
    "movie_names = [name[2] for name in ds_top250Movies]\n"
   ]
  },
  {
   "cell_type": "markdown",
   "metadata": {},
   "source": [
    "### Boxplot: distribution of IMDb movie ratings"
   ]
  },
  {
   "cell_type": "code",
   "execution_count": 35,
   "metadata": {},
   "outputs": [
    {
     "data": {
      "text/plain": [
       "'file:///Users/jeremyirving/Codesets/Imdb_Top_Actors/Plots/Ratings_boxplot.html'"
      ]
     },
     "execution_count": 35,
     "metadata": {},
     "output_type": "execute_result"
    }
   ],
   "source": [
    "\n",
    "# we use Plotly to create a boxplot to represent the distribution of movie ratings across the Top 250 IMDb movies\n",
    "\n",
    "trace0 = go.Box(\n",
    "    x = rating,\n",
    "    name = \" \",\n",
    "    jitter = 1,\n",
    "    pointpos = 0.4,\n",
    "    boxpoints = 'all',\n",
    "    marker = dict(color = 'rgb(32, 51, 155)', opacity=0.6, size=9),\n",
    "    line = dict(color = 'rgb(162, 160, 165)'),\n",
    "    text = movie_names\n",
    ")\n",
    "\n",
    "data = [trace0]\n",
    "layout = go.Layout(  title=\"Box plot of IMDb's Top 250 movie ratings\"\n",
    "                   , boxgap = 0.5\n",
    "                   , xaxis = dict(title='IMDb move rating'))\n",
    "\n",
    "fig = go.Figure(data = data , layout = layout)\n",
    "\n",
    "# export boxplot visualisation to .html file\n",
    "plot(fig, filename = \"../Plots/Ratings_boxplot.html\")\n"
   ]
  },
  {
   "cell_type": "markdown",
   "metadata": {},
   "source": [
    "## Looking at the relationship between movie rank and rating\n",
    "\n",
    "The chart below (left) plots movie rating versus movie ranking, for all 250 movies. The adjacent chart (below right) attempts to identify a model that best describes the relationship between movie rating and rank (note: I used ```scipy``` to fit these models). We can see that a linear model explains the 'general' relationship (as you'd expect, with an R-squared of 0.82) however it particularly understates the sharp increase in ratings for top ranked movies. Again as you'd expect, the quadratic (R-squared of 0.92) and cubic (R-squared of 0.96) functions provide better representations of the relationship, as they provide a much better fit for top ranked movies.\n"
   ]
  },
  {
   "cell_type": "code",
   "execution_count": 36,
   "metadata": {},
   "outputs": [],
   "source": [
    "\n",
    "# here we fit a set of models / relationships between rank vs rating\n",
    "# we use scipy to fit our models\n",
    "# useful youtube video for using scipy package: https://www.youtube.com/watch?v=ro5ftxuD6is\n",
    "\n",
    "p1 = polyfit(ranking , rating, 1) # linear regression\n",
    "p2 = polyfit(ranking , rating, 2) # quadratic\n",
    "p3 = polyfit(ranking , rating, 3) # cubic\n"
   ]
  },
  {
   "cell_type": "code",
   "execution_count": 37,
   "metadata": {},
   "outputs": [
    {
     "data": {
      "text/plain": [
       "'file:///Users/jeremyirving/Codesets/Imdb_Top_Actors/Plots/MovieRating_vs_Ranking.html'"
      ]
     },
     "execution_count": 37,
     "metadata": {},
     "output_type": "execute_result"
    }
   ],
   "source": [
    "\n",
    "# we use Plotly to illustrate the relationships using scatter plots\n",
    "\n",
    "trace0 = go.Scatter(\n",
    "    x = ranking, y = rating,\n",
    "    name = 'Movies (rating vs. rank)' ,mode='markers'    \n",
    "    , marker = dict(color = ('rgb(0, 0, 0)'), size=5, opacity=0.2)\n",
    ")\n",
    "\n",
    "trace1 = go.Scatter(\n",
    "    x = ranking, y = polyval(p1 , ranking),\n",
    "    name = 'Linear model' , line = dict(color = ('rgb(122, 122, 122)') , width = 3, dash='dash'), opacity=0.75)\n",
    "\n",
    "trace2 = go.Scatter(\n",
    "    x = ranking, y = polyval(p2 , ranking),\n",
    "    name = 'Quadratic model' , line = dict(color = ('rgb(32, 51, 155)') , width = 6), opacity=0.75)\n",
    "\n",
    "trace3 = go.Scatter(\n",
    "    x = ranking, y = polyval(p3 , ranking),\n",
    "    name = 'Cubic model' , line = dict(color = ('rgb(249, 126, 32)') , width = 6), opacity=0.75)\n",
    "\n",
    "data = [trace0, trace1, trace2, trace3]\n",
    "\n",
    "# Layout : include annotatations for r-squared\n",
    "layout = dict(title = 'How movie rating changes with ranking',\n",
    "              xaxis = dict(title = 'Movie Ranking'),\n",
    "              yaxis = dict(title = 'IMDb Rating'),\n",
    "              annotations=[\n",
    "                dict(x=120,y=8.28,xref='x',yref='y',text='0.82 Rsq',showarrow=True,arrowhead=7,ax=0,ay=-40\n",
    "                     , font=dict(family='Arial black',size=15,color='rgb(122, 122, 122)')),\n",
    "                dict(x=240,y=8.046,xref='x',yref='y',text='0.92 Rsq',showarrow=True,arrowhead=7,ax=0,ay=-40\n",
    "                     , font=dict(family='Arial black',size=15,color='rgb(32, 51, 155)')), \n",
    "                dict(x=200,y=8.08713,xref='x',yref='y',text='0.96 Rsq',showarrow=True,arrowhead=7,ax=0,ay=-40\n",
    "                     , font=dict(family='Arial black',size=15,color='rgb(249, 126, 32)'))\n",
    "              ]\n",
    "              )\n",
    "\n",
    "fig = dict(data=data, layout=layout)\n",
    "plot(fig, filename='../Plots/MovieRating_vs_Ranking.html', auto_open=True)\n"
   ]
  },
  {
   "cell_type": "code",
   "execution_count": 104,
   "metadata": {},
   "outputs": [
    {
     "name": "stdout",
     "output_type": "stream",
     "text": [
      "[INFO] Linear model RSquared: 0.826708647607\n",
      "[INFO] Quadratic model RSquared: 0.922868641639\n",
      "[INFO] Cubic model RSquared: 0.955138111232\n"
     ]
    }
   ],
   "source": [
    "\n",
    "# Calculate the Rsquared values for each model fit (linear, quadratic, cubic)\n",
    "\n",
    "\"\"\"\n",
    "\n",
    "# calculate the Rsq value for each model fit\n",
    "\n",
    "# lienar model\n",
    "y = rating\n",
    "yfit = p1[0] * np.array(ranking) + p1[1]\n",
    "yresid = y - yfit\n",
    "SSresid = sum(pow(yresid,2))\n",
    "SStotal = len(y) * var(y)\n",
    "rsq = 1 - SSresid / SStotal\n",
    "print(\"[INFO] Linear model RSquared: \"+ str(rsq))\n",
    "\n",
    "# quadratic model\n",
    "y = rating\n",
    "yfit = (p2[0]*(np.array(ranking)*np.array(ranking)))+ p2[1]*np.array(ranking)+ p2[2]\n",
    "yresid = y - yfit\n",
    "SSresid = sum(pow(yresid,2))\n",
    "SStotal = len(y) * var(y)\n",
    "rsq = 1 - SSresid / SStotal\n",
    "print(\"[INFO] Quadratic model RSquared: \"+ str(rsq))\n",
    "\n",
    "# cubic model\n",
    "y = rating\n",
    "yfit = polyval(p3 , ranking)\n",
    "yresid = y - yfit\n",
    "SSresid = sum(pow(yresid,2))\n",
    "SStotal = len(y) * var(y)\n",
    "rsq = 1 - SSresid / SStotal\n",
    "print(\"[INFO] Cubic model RSquared: \"+ str(rsq))\n",
    "\n",
    "\"\"\"\n"
   ]
  },
  {
   "cell_type": "markdown",
   "metadata": {},
   "source": [
    "## Boxplot distributions, ratings by genre"
   ]
  },
  {
   "cell_type": "code",
   "execution_count": 45,
   "metadata": {},
   "outputs": [
    {
     "data": {
      "text/plain": [
       "'file:///Users/jeremyirving/Codesets/Imdb_Top_Actors/Plots/Boxplot_Dist_By_Genre.html'"
      ]
     },
     "execution_count": 45,
     "metadata": {},
     "output_type": "execute_result"
    }
   ],
   "source": [
    "\n",
    "# extract the arrays for genre, ratings and movie names\n",
    "film_genres = [gen[3] for gen in ds_movieGenre]\n",
    "film_ratings = [float(rat[4]) for rat in ds_top250Movies] \n",
    "film_names = [mov[2] for mov in ds_top250Movies] \n",
    "\n",
    "\n",
    "film_genres_split = []\n",
    "film_ratings_split = []\n",
    "film_name_split = []\n",
    "\n",
    "for each_row, each_rating, each_name in zip(film_genres , film_ratings, film_names) :\n",
    "    for each_genre in each_row.split(\"|\"):\n",
    "        film_name_split.append(each_name)\n",
    "        film_genres_split.append(each_genre.strip())\n",
    "        film_ratings_split.append(each_rating)\n",
    "        \n",
    "df_genres_ratings = pd.DataFrame( {'Ratings': film_ratings_split, 'Genres': film_genres_split} )\n",
    "\n",
    "# order genre by median movie rating\n",
    "sorted_by_value = dict(sorted(dict(df_genres_ratings.groupby(['Genres'])['Ratings'].median()).items(), key=lambda kv: -kv[1]))\n",
    "genre_order = list(sorted_by_value.keys())\n",
    "order = pd.DataFrame(df_genres_ratings.groupby(['Genres'])['Ratings'].median())\n",
    "order.reset_index(inplace = True)\n",
    "order.sort_values(['Ratings'], ascending=False, inplace=True)\n",
    "\n",
    "data = []\n",
    "for i in range(0,len(pd.unique(df_genres_ratings['Genres']))):\n",
    "    trace = {\n",
    "                \"type\": 'box',\n",
    "                \"jitter\" :1,\n",
    "                    \"pointpos\" :0,\n",
    "                    \"boxpoints\" :'all',        \n",
    "        \n",
    "                \"x\": df_genres_ratings['Genres'][df_genres_ratings['Genres'] == pd.unique(df_genres_ratings['Genres'])[i]],\n",
    "                \"y\": df_genres_ratings['Ratings'][df_genres_ratings['Genres'] == pd.unique(df_genres_ratings['Genres'])[i]],\n",
    "                \"name\": pd.unique(df_genres_ratings['Genres'])[i],\n",
    "                \"showlegend\": False,\n",
    "                \"marker\" : {'color':'rgb(32, 51, 155)'},\n",
    "                \"box\": {\"visible\": True},\n",
    "                \"meanline\": {\"visible\": True}\n",
    "            }\n",
    "    data.append(trace)\n",
    "    \n",
    "fig = {\"data\": data,\n",
    "       \"layout\" : {\n",
    "        \"title\": \"Boxplot of Movie Ratings, by Genre\",\n",
    "        \"yaxis\": {\"zeroline\": False},\n",
    "        \"xaxis\":{\"categoryarray\": list(order.Genres)}\n",
    "                }}\n",
    "\n",
    "plot(fig, filename='../Plots/Boxplot_Dist_By_Genre.html', validate = False)\n"
   ]
  },
  {
   "cell_type": "markdown",
   "metadata": {},
   "source": [
    "## Part 5 (of 5): Data Exploration - *Who Really Are The Best Actors?*\n",
    "\n",
    "So this was the bit I was most interested in. Here we take a look at how many, top rated , movies each actor appeared in.\n",
    "\n",
    "Firstly, I looked at the frequency of movie features per actor. Each actor was assigned to a frequency bucket (i.e. 1, 2, 3, 4+) depending on the number of top rated movies they'd featured in. \n",
    "\n",
    "The pie chart below illustrates this split, for the full **15,013 (distinct) cast & crew members** that featured across the 250 movies. Here we see that **90% of actors featured in just one movie**, with **just under 1% of actors featuring in 4 or more movies**. Interesting? Perhaps not, but I then started to put names to these numbers.\n"
   ]
  },
  {
   "cell_type": "markdown",
   "metadata": {},
   "source": [
    "## Pie Chart - Movie count per cast member"
   ]
  },
  {
   "cell_type": "code",
   "execution_count": 46,
   "metadata": {},
   "outputs": [],
   "source": [
    "\n",
    "# prepare data for charts\n",
    "\n",
    "movies_list = [mv[2] for mv in ds_top250Movies]\n",
    "\n",
    "def actorsAllMovies(base_castAndCrew , movies_list , topNCount):\n",
    "\n",
    "    cast_dictionary = {}\n",
    "    cast_movie_dict = {}    \n",
    "    ordered_appearance = []\n",
    "    ordered_app_num = []    \n",
    "    \n",
    "    # (1) CREATE ACTOR/ACTRESS DICTIONARY with MOVIE COUNTER (i.e. ACTORNAME : MOVIECOUNT)\n",
    "    \n",
    "    # for each cast member, across all movies, append to dictionary\n",
    "    # create counter for each cast member (i.e. counter = number of movies featured in)\n",
    "    for film_cast in base_castAndCrew:\n",
    "        for cast_member in film_cast:\n",
    "            if not str(cast_member).lower() in cast_dictionary:\n",
    "                cast_dictionary[cast_member.lower()] = 1\n",
    "            else:\n",
    "                cast_dictionary[cast_member.lower()] += 1\n",
    "                \n",
    "    # sort dictionary by movie count           \n",
    "    cast_dictionary = sorted(cast_dictionary.items(), key=lambda kv: -kv[1])\n",
    "\n",
    "    \n",
    "    # (2) CREATE DICTIONARY WITH ACTOR NAME AND MOVIES FEATURED IN (i.e. ACTORNAME : MOVIES)\n",
    "    \n",
    "    for movie, cast in zip(movies_list, base_castAndCrew):\n",
    "        for cast_member in cast:\n",
    "            cast_member_lower = cast_member.lower()\n",
    "            if not str(cast_member).lower() in cast_movie_dict:\n",
    "                cast_movie_dict[cast_member_lower] = [movie]\n",
    "            else:\n",
    "                cast_movie_dict[cast_member_lower].append( movie )\n",
    "                \n",
    "    # (3) CREATE LISTS OF ACTORS/MOVIES ABOUT A THRESHOLD MOVIE COUNT           \n",
    "\n",
    "    for idx, name in enumerate(cast_dictionary):\n",
    "        if cast_dictionary[idx][1] > topNCount:\n",
    "            ordered_appearance.append(  str(cast_dictionary[idx][0]) )\n",
    "            ordered_app_num.append( cast_dictionary[idx][1] ) \n",
    "            \n",
    "    return( cast_dictionary ,  cast_movie_dict ,  ordered_appearance , ordered_app_num   )\n"
   ]
  },
  {
   "cell_type": "code",
   "execution_count": 48,
   "metadata": {},
   "outputs": [
    {
     "data": {
      "text/plain": [
       "'file:///Users/jeremyirving/Codesets/Imdb_Top_Actors/Plots/PieChart_MovieCount.html'"
      ]
     },
     "execution_count": 48,
     "metadata": {},
     "output_type": "execute_result"
    }
   ],
   "source": [
    "\n",
    "cast_dict1 , cast_movie_dict1 , ordered_appearance1 , ordered_app_number1 = \\\n",
    "        actorsAllMovies(ds_castAndCrew , movies_list , 0 )\n",
    "    \n",
    "df_ActorsNumber = pd.DataFrame({'Name': ordered_appearance1 , 'MovieCount': ordered_app_number1})\n",
    "\n",
    "summ_movie_count = pd.DataFrame(df_ActorsNumber.MovieCount.value_counts())\n",
    "summ_movie_count.reset_index(inplace = True)\n",
    "summ_movie_count.columns = ['MovieCount', 'ActorCount']\n",
    "\n",
    "summ_movie_count['MoveCountBanded'] = np.where(summ_movie_count['MovieCount'] > 3, 4, summ_movie_count['MovieCount'])\n",
    "summ_movie_count['MoveCountBanded_str'] = np.where(summ_movie_count['MoveCountBanded'] == 4, '4+ movies'\n",
    "                                                    , np.where(summ_movie_count['MoveCountBanded'] == 1, '1 movie'\n",
    "                                                     , np.where(summ_movie_count['MoveCountBanded'] == 2, '2 movies'\n",
    "                                                      , np.where(summ_movie_count['MoveCountBanded'] == 3, '3 movies', 'Missing'))))                                              \n",
    "                                                  \n",
    "labels = list(summ_movie_count.MoveCountBanded_str)\n",
    "values = list(summ_movie_count.ActorCount)\n",
    "colors = ['rgb(32, 51, 155)', 'rgb(249, 126, 32)', 'rgb(34, 155, 38)', 'rgb(153, 26, 142)']\n",
    "\n",
    "trace = go.Pie(    labels = labels\n",
    "                  , values = values\n",
    "                  , hoverinfo='label+percent'\n",
    "                  , textinfo='value'\n",
    "                  , textfont=dict(size=15)\n",
    "                  , opacity = 0.8\n",
    "                  , textposition='outside'\n",
    "                  , marker = dict(colors = colors,\n",
    "                           line=dict(color='#f7f7f7'\n",
    "                                     , width=1)))\n",
    "\n",
    "data = [trace]\n",
    "layout = go.Layout(title='Number of Top 250 movie features, per actor')\n",
    "fig = dict(data = data, layout=layout)\n",
    "plot(fig , filename = '../Plots/PieChart_MovieCount.html', auto_open=True)\n"
   ]
  },
  {
   "cell_type": "markdown",
   "metadata": {},
   "source": [
    "## Bar Chart - Number of movie features per actor/actress (5+ movies)\n",
    "\n",
    "The interactive plotly chart allows us to see the actors with the highest movie features, with the list of movies available on hover over. I chose to only plot actors that had featured in five or more movies as anymore and the plot would be unreadable (and I was too lazy to created a user defined input range or value filter). The plot begins with the highest number of movie features on the far left of the chart, ranked descending order.\n",
    "\n",
    "o what did I deduce from this chart? Well, perhaps I'm not quite the film buff I first thought but:\n",
    "\n",
    "- to my suprise, the first actor I had heard of was in position five - **Robert De Niro** - who has appeared in eight of the top 250 movies (and is undoubtably a household name & living legend).\n",
    "\n",
    "- in position one, **John Ratzenberger** has 'appeared' in more of the Top 250 movies than any other 'actor' - a whopping 12 x movies. Interetingly, **10 of these were animation films**, so he didn't even 'appear' in them at all.\n",
    "\n",
    "- **Bess Flowers**, in position two, featured in 10 movies all published before the 1970s.\n",
    "\n",
    "- in third position, **Joseph Oliveira**, was a peculiar find. Whilst he'd featured in nine of the Top 250 movies, he'd only played **supporting** or **'uncredited'** roles in each. To list a few examples, Joseph featured as a [walk on officer in Dark Knight (2008)](https://www.imdb.com/title/tt0468569/fullcredits?ref_=tt_cl_sm#cast); held an uncredited role as ['Marciano' in Goodfellas (1990)](https://www.imdb.com/title/tt0099685/fullcredits?ref_=tt_cl_sm#cast); and **again** an [uncredited Officer Court Room Attendant in Wolf of Wall Street (2013)](https://www.imdb.com/title/tt0993846/fullcredits). He's been in so many modern classics but there's no chance I'd recognise him if he passed me on the street.\n",
    "\n",
    "- there are also plently of popularly recognised names, including Harrison Ford (6th), Gino Corrado (7th), Morgan Freeman (10th), to name a few.\n",
    "\n",
    "Why not take a look yourself!\n",
    "\n"
   ]
  },
  {
   "cell_type": "code",
   "execution_count": 49,
   "metadata": {},
   "outputs": [
    {
     "data": {
      "text/plain": [
       "'file:///Users/jeremyirving/Codesets/Imdb_Top_Actors/Plots/TopActors.html'"
      ]
     },
     "execution_count": 49,
     "metadata": {},
     "output_type": "execute_result"
    }
   ],
   "source": [
    "# plot number of films starred in descending\n",
    "# labels / hover to display list of films per star\n",
    "\n",
    "cast_dict2 , cast_movie_dict2 , ordered_appearance2, ordered_app_number2 = \\\n",
    "        actorsAllMovies(ds_castAndCrew , movies_list , 4 )\n",
    "    \n",
    "    \n",
    "movie_list_breaks = []\n",
    "for name in ordered_appearance2:\n",
    "    Movie_list = []\n",
    "    for value in cast_movie_dict2[name]:\n",
    "        Movie_list.append(value+' <br>')\n",
    "        \n",
    "    movie_list_breaks.append(Movie_list)\n",
    "    \n",
    "ordered_appearance_final = []\n",
    "for cast in ordered_appearance2:\n",
    "    ordered_appearance_final.append(cast.title())\n",
    "     \n",
    "trace0 = go.Bar(\n",
    "    x = ordered_appearance_final ,\n",
    "    y = ordered_app_number2,\n",
    "    hovertext = movie_list_breaks,\n",
    "    marker=dict(\n",
    "        color='rgb(249, 126, 32)',\n",
    "        line=dict(color='rgb(86, 38, 1)',width=1.5,)),opacity=0.5)\n",
    "\n",
    "data = [trace0]\n",
    "layout = go.Layout(title=\"Number of movie features in IMDb's Top 250 film features (5+ movie features)\"\n",
    "                   , xaxis=dict(tickangle=45)\n",
    "                   , yaxis=dict(title=\"# of movie features\"))\n",
    "\n",
    "fig = dict(data = data, layout=layout)\n",
    "plot(fig , filename = '../Plots/TopActors.html', auto_open=True)\n"
   ]
  }
 ],
 "metadata": {
  "kernelspec": {
   "display_name": "Python 3",
   "language": "python",
   "name": "python3"
  },
  "language_info": {
   "codemirror_mode": {
    "name": "ipython",
    "version": 3
   },
   "file_extension": ".py",
   "mimetype": "text/x-python",
   "name": "python",
   "nbconvert_exporter": "python",
   "pygments_lexer": "ipython3",
   "version": "3.6.3"
  }
 },
 "nbformat": 4,
 "nbformat_minor": 2
}
