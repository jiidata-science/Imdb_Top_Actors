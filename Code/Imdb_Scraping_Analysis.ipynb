{
 "cells": [
  {
   "cell_type": "markdown",
   "metadata": {},
   "source": [
    "# Which actors / actresses have starred in the most of IMDb's Top 250 rated films?\n",
    "## *Scraping movie and cast information from IMDb.com and visualising most featured actors/actresses, with BeautifulSoup, Pandas and Plotly*\n",
    "\n",
    "So here it is...my first data science article (hopefully not my last). I decided to kick-off my series with at IMDb's top rated films to identify actors/actresses that feature across multiple top films - the 'real movie stars'. To be brutally honest about *why* I've dived into this relatively random topic; primarily I wanted to use web scraping technology (i.e. Python with beautifulSoup in this case) to collect data that isn't otherwise readily available in the desired format. The secondary reason was merely because I enjoy watching movies - hardly a unique interest.\n",
    "\n",
    "Whilst IMDb's does readily offer APIs for accessing movie information (seems a little suprising to me) they do offer a number of static datasets - https://datasets.imdbws.com/. I chose not use these datasets and scraped required data directly from the IMDb.com.\n",
    "\n",
    "In this blog:\n",
    "\n",
    "(1) We start with scraping IMDb film, actors/actress data (using BeautifulSoup)\n",
    "\n",
    "(2) We process and clean the captured data (using Pandas)\n",
    "\n",
    "(3) Then (more interestingly) we start to pull explore the data by:\n",
    "\n",
    "    (a) Looking at the distribution of Top 250 film ratings\n",
    "    (b) Understanding which film genres are more likely to have higher ratings, and\n",
    "    (c) Identifying which actors/actresses appear in the most top rated films\n",
    "    \n",
    "**Ultimately, this blog culminates in identifying *\"Which actors/actresses feature in the most Top 250 films?\"*. I began this project under the naive assumption that these actors/actresses would be popular household names; the likes of Katharine Hepburn, Robert De Niro and Jack Nicholson. IMDb themselves provide a ranking of '100 greates actors & actresses' https://www.imdb.com/list/ls053085147/ BUT This analysis actually provides some suprising outcomes...enjoy!**\n"
   ]
  },
  {
   "cell_type": "code",
   "execution_count": 1,
   "metadata": {},
   "outputs": [
    {
     "data": {
      "text/html": [
       "<script>requirejs.config({paths: { 'plotly': ['https://cdn.plot.ly/plotly-latest.min']},});if(!window.Plotly) {{require(['plotly'],function(plotly) {window.Plotly=plotly;});}}</script>"
      ],
      "text/vnd.plotly.v1+html": [
       "<script>requirejs.config({paths: { 'plotly': ['https://cdn.plot.ly/plotly-latest.min']},});if(!window.Plotly) {{require(['plotly'],function(plotly) {window.Plotly=plotly;});}}</script>"
      ]
     },
     "metadata": {},
     "output_type": "display_data"
    }
   ],
   "source": [
    "\n",
    "# Import required Python libraries and setup workspace\n",
    "\n",
    "import certifi\n",
    "import urllib3\n",
    "http = urllib3.PoolManager(cert_reqs='CERT_REQUIRED', ca_certs=certifi.where())\n",
    "from bs4 import BeautifulSoup\n",
    "import pandas as pd\n",
    "import numpy as np\n",
    "import csv\n",
    "\n",
    "from scipy import polyfit, polyval\n",
    "from scipy.interpolate import CubicSpline\n",
    "\n",
    "import plotly.graph_objs as go\n",
    "from plotly import __version__\n",
    "from plotly.offline import download_plotlyjs, init_notebook_mode, plot, iplot\n",
    "init_notebook_mode(connected=True)\n",
    "%matplotlib inline\n",
    "\n"
   ]
  },
  {
   "cell_type": "markdown",
   "metadata": {},
   "source": [
    "## DATA COLLECTION Pt1 : Scrape Top 250 rated movies from IMDb website\n",
    "Data captured on 27th July 2018\n",
    "\n",
    "We start by using *urlib3* and *beautifulSoup* libraries to pull the Top 250 movies from IMDb's https://www.imdb.com/chart/top web page. We capture each movie title, along with it's official IMDb ranking and rating. In the code cell below, we create a list of lists, stored in the **table_data** variable."
   ]
  },
  {
   "cell_type": "code",
   "execution_count": 2,
   "metadata": {},
   "outputs": [
    {
     "data": {
      "text/plain": [
       "[['1', 'The Shawshank Redemption', 1994, '9.2'],\n",
       " ['2', 'The Godfather', 1972, '9.2'],\n",
       " ['3', 'The Godfather: Part II', 1974, '9.0'],\n",
       " ['4', 'The Dark Knight', 2008, '9.0'],\n",
       " ['5', '12 Angry Men', 1957, '8.9']]"
      ]
     },
     "execution_count": 2,
     "metadata": {},
     "output_type": "execute_result"
    }
   ],
   "source": [
    "\n",
    "table_data = [] # empty list. We'll be adding results to this\n",
    "\n",
    "# IMDb page url for all top 250 rated films\n",
    "url_imdbTop250 = 'https://www.imdb.com/chart/top'\n",
    "\n",
    "# run web page request\n",
    "page_imdbTop250 = http.request('GET', url_imdbTop250)\n",
    "\n",
    "# allow for page exploration using BeautifulSoup (i.e. soup-ify returned webpage)\n",
    "soup_Top250 = BeautifulSoup(page_imdbTop250.data, \"lxml\")\n",
    "\n",
    "# create tabulated data with top 250 film information\n",
    "table = soup_Top250.find('table', attrs={'class':'chart full-width'})# select the <table ...> that contains the ranked movies\n",
    "table_body = table.find('tbody') # further subset the page. select only the table body\n",
    "rows = table_body.find_all('tr') # find all rows within top 250 rated movies table\n",
    "\n",
    "# for each row in table extract the: rank, movie name, year published and Imdb rating\n",
    "for row in rows:\n",
    "    cols = row.find_all('td')\n",
    "    cols = [ele.text.strip() for ele in cols]\n",
    "    movie_name_string = cols[1]\n",
    "    movie_rank = movie_name_string[:movie_name_string.index('.')] \n",
    "    movie_year = int(movie_name_string[-5:-1])\n",
    "    movie_name = movie_name_string[movie_name_string.index('.')+1:movie_name_string.index('(')].strip()\n",
    "    movie_rating = cols[2]\n",
    "    table_data.append([movie_rank, movie_name, movie_year, movie_rating])\n",
    "\n",
    "table_data[:5] # print the top 5 results"
   ]
  },
  {
   "cell_type": "markdown",
   "metadata": {},
   "source": [
    "## DATA COLLECTION Pt2 : Scrape movie Genre & Cast/Crew\n",
    "\n",
    "Each movie has it's own title landing page, covering a summary of information and a separate page for viewing the full cast/crew list per feature. Providing that you use the Imdb movie Id (i.e. an ID specific to Imdb) it's very simple to manipulate standard URLs and pull the information need:\n",
    "\n",
    "- https://www.imdb.com/title/{film_id} : used to retrieve film genre\n",
    "- https://www.imdb.com/title/{film_id}/fullcredits : used to retrieve full cast / crew\n",
    "\n",
    "The film IDs are first retrieved from the initial page scrape, as they are provided in the html in the 'wlb_ribbon' class. With these 250 x film IDs we proceed to scrape the information we require. I have clearly commented the code, below, to ensure that it can be intuitively understood."
   ]
  },
  {
   "cell_type": "code",
   "execution_count": 3,
   "metadata": {},
   "outputs": [
    {
     "name": "stdout",
     "output_type": "stream",
     "text": [
      "[INFO] Scraping film no. 25 of 250\n",
      "[INFO] Scraping film no. 50 of 250\n",
      "[INFO] Scraping film no. 75 of 250\n",
      "[INFO] Scraping film no. 100 of 250\n",
      "[INFO] Scraping film no. 125 of 250\n",
      "[INFO] Scraping film no. 150 of 250\n",
      "[INFO] Scraping film no. 175 of 250\n",
      "[INFO] Scraping film no. 200 of 250\n",
      "[INFO] Scraping film no. 225 of 250\n",
      "[INFO] Scraping film no. 250 of 250\n"
     ]
    }
   ],
   "source": [
    "\n",
    "# return all of the imdb film ids for crawling film casts\n",
    "film_ids = []\n",
    "base_castAndCrew = []\n",
    "\n",
    "links_class  = soup_Top250.findAll(\"div\", {\"class\":\"wlb_ribbon\"}) # table/html tag containing each IMDb movie ID\n",
    "\n",
    "# for each movie, using the film ID:\n",
    "for idx, link in enumerate(links_class):    \n",
    "    \n",
    "    counter = idx + 1\n",
    "    if counter % 25 == 0: # print to log every n iterations\n",
    "        print(\"[INFO] Scraping film no. {0} of {1}\".format(counter,len(links_class)))\n",
    "        \n",
    "    # Part 1 ----------------------------------------\n",
    "    # FOR EACH MOVIE, USE MOVIE ID TO CONSTRUCT MOVIE PAGE URL AND RETURN FILM GENRE\n",
    "    \n",
    "    filmID = link.attrs['data-tconst']\n",
    "    filmID_castURL = \"https://www.imdb.com/title/{0}/fullcredits\".format(filmID) # used to retrieve full cast\n",
    "    filmID_homePageURL = \"https://www.imdb.com/title/{0}\".format(filmID) # used to retrieve genre\n",
    "    \n",
    "    # request movie home page to return genre\n",
    "    html_filmHomePage = http.request('GET', filmID_homePageURL)\n",
    "    soup_filmHomePage = BeautifulSoup(html_filmHomePage.data, \"lxml\")\n",
    "    soup_getGenre = soup_filmHomePage.find('div', {'itemprop':'genre'})\n",
    "    genre_clean = str(soup_getGenre.text).replace('\\n' , '').replace('Genres: ', '')\n",
    "    \n",
    "    # append derived data to output list\n",
    "    film_ids.append([filmID , filmID_castURL , filmID_homePageURL, genre_clean])\n",
    "    \n",
    "    # Part 2 ----------------------------------------\n",
    "    # FOR EACH MOVIE, PULL FULL CAST FROM MOVIE CAST/CREW PAGE URL\n",
    "    \n",
    "    # query the website and return the html to the variable ‘page’\n",
    "    html_castAndCrew = http.request('GET', filmID_castURL)\n",
    "    soup_castAndCrew = BeautifulSoup(html_castAndCrew.data, \"lxml\")\n",
    "    table_castAndCrew = soup_castAndCrew.find('table', {'class':'cast_list'})\n",
    "    \n",
    "    # select cast list\n",
    "    list_castAndCrew = []\n",
    "    for cast in table_castAndCrew.findAll('span', {'class':\"itemprop\"}):\n",
    "        list_castAndCrew.append(cast.text)\n",
    "    base_castAndCrew.append(list_castAndCrew)  \n",
    "    \n",
    "    del filmID, filmID_castURL, filmID_homePageURL, genre_clean, html_filmHomePage, soup_filmHomePage, soup_getGenre, \\\n",
    "    list_castAndCrew, html_castAndCrew, soup_castAndCrew, table_castAndCrew\n"
   ]
  },
  {
   "cell_type": "code",
   "execution_count": 6,
   "metadata": {},
   "outputs": [],
   "source": [
    "\n",
    "# This code block exports the scraped data sets into csv files\n",
    "# you must first create a Data/ directory within your repository\n",
    "# saving scraped data to disk\n",
    "\n",
    "# movie rankings\n",
    "with open(\"Data/movie_ratings.csv\", 'w') as f:\n",
    "    wr = csv.writer(f, quoting=csv.QUOTE_ALL)\n",
    "    wr.writerow(table_data)\n",
    "    \n",
    "# cast and crew\n",
    "with open(\"Data/movie_cast_and_crew.csv\", 'w') as myfile:\n",
    "    wr = csv.writer(myfile, quoting=csv.QUOTE_ALL)\n",
    "    wr.writerow(base_castAndCrew)\n",
    "    "
   ]
  },
  {
   "cell_type": "markdown",
   "metadata": {},
   "source": [
    "## ANALYSIS & PLOTS \n",
    "\n",
    "### Pt1 : Exploring distribution of movie ratings\n",
    "\n",
    "Looking at the two ratings charts, we deduce that across the Top 250 movies:\n",
    "- the median movie rating is 8.2\n",
    "- The box plot identifies a number of outliers (note: Plotly atypically considers outliers as data points that are 1.5 x Interquartile range from the first (Q1) and third (Q3) quartiles. These seven outliers represent relatively (very) highly rated movies compares with others. With no suprise, these top rated films include some of my (and everyone elses) favouries - **[{'1':'The Shawshank Redemption', '2': 'The Godfather','3': 'The Godfather: Part II','4': 'The Dark Knight', '5': '12 Angry Men'}]**\n",
    "- extending on the above point, ratings do not have a purely (inverse) linear relationship with movie ranking. 95% of movies have a rating between 8.2 - 8.7 (range: 0.5), whilst the remaining 5% have much higher scores between 8.7 to 9.2 (range: 0.5).\n",
    "\n",
    "- The boxplot illustrates movie rating distribution characteristics, of the Top 250 rated films, split by film genre\n",
    "- I've ordered the x-axis from highest to lowest median rating value, by genre.\n",
    "- Perhaps, suprisingly, Music and Horror movies have the highest median rankings; but unsuprisgly each of these genres have just five contributing movies\n",
    "- X% of top movies are either dramas, x or y.\n"
   ]
  },
  {
   "cell_type": "markdown",
   "metadata": {},
   "source": [
    "## Looking at the (boxplot) distribution of movie ratings"
   ]
  },
  {
   "cell_type": "code",
   "execution_count": 4,
   "metadata": {},
   "outputs": [],
   "source": [
    "\n",
    "# we first unlist our rankings, ratings and movie names into three variables\n",
    "ranking = [float(el[0]) for el in table_data]\n",
    "rating = [float(el[3]) for el in table_data]\n",
    "movie_names = [nm[1] for nm in table_data]\n"
   ]
  },
  {
   "cell_type": "code",
   "execution_count": 15,
   "metadata": {},
   "outputs": [
    {
     "data": {
      "text/plain": [
       "'file:///Users/jeremyirving/Codesets/Imdb_Top_Actors/Plots/Ratings_boxplot.html'"
      ]
     },
     "execution_count": 15,
     "metadata": {},
     "output_type": "execute_result"
    }
   ],
   "source": [
    "\n",
    "# we use Plotly to create a boxplot to represent the distribution of movie ratings\n",
    "# across the Top 250 IMDb movies\n",
    "\n",
    "trace0 = go.Box(\n",
    "    x = rating,\n",
    "    name = \" \",\n",
    "    jitter = 1,\n",
    "    pointpos = 0.4,\n",
    "    boxpoints = 'all',\n",
    "    marker = dict(color = 'rgb(32, 51, 155)', opacity=0.6, size=9),\n",
    "    line = dict(color = 'rgb(162, 160, 165)'),\n",
    "    text = movie_names\n",
    ")\n",
    "\n",
    "data = [trace0]\n",
    "layout = go.Layout(  title=\"Box plot of IMDb's Top 250 movie ratings\"\n",
    "                   , boxgap = 0.5\n",
    "                   , xaxis = dict(title='IMDb move rating'))\n",
    "\n",
    "fig = go.Figure(data=data,layout=layout)\n",
    "\n",
    "# explort boxplot visualisation to .html file\n",
    "plot(fig, filename = \"../Plots/Ratings_boxplot.html\")\n"
   ]
  },
  {
   "cell_type": "markdown",
   "metadata": {},
   "source": [
    "## Looking at the relationship between movie rank and rating"
   ]
  },
  {
   "cell_type": "code",
   "execution_count": 16,
   "metadata": {},
   "outputs": [],
   "source": [
    "\n",
    "# here we fit a set of models / relationships between rank vs rating\n",
    "# useful youtube video for using scipy package: https://www.youtube.com/watch?v=ro5ftxuD6is\n",
    "\n",
    "p1 = polyfit(ranking , rating, 1) # linear regression\n",
    "p2 = polyfit(ranking , rating, 2) # quadratic\n",
    "p3 = polyfit(ranking , rating, 3) # cubic\n"
   ]
  },
  {
   "cell_type": "code",
   "execution_count": 17,
   "metadata": {},
   "outputs": [
    {
     "data": {
      "text/plain": [
       "'file:///Users/jeremyirving/Codesets/Imdb_Top_Actors/Plots/MovieRating_vs_Ranking.html'"
      ]
     },
     "execution_count": 17,
     "metadata": {},
     "output_type": "execute_result"
    }
   ],
   "source": [
    "\n",
    "# Create and style traces\n",
    "trace0 = go.Scatter(\n",
    "    x = ranking, y = rating,\n",
    "    name = 'Movies (rating vs. rank)' ,mode='markers'    \n",
    "    , marker = dict(color = ('rgb(0, 0, 0)'), size=5, opacity=0.2)\n",
    ")\n",
    "\n",
    "trace1 = go.Scatter(\n",
    "    x = ranking, y = polyval(p1 , ranking),\n",
    "    name = 'Linear model' , line = dict(color = ('rgb(122, 122, 122)') , width = 3, dash='dash'), opacity=0.75)\n",
    "\n",
    "trace2 = go.Scatter(\n",
    "    x = ranking, y = polyval(p2 , ranking),\n",
    "    name = 'Quadratic model' , line = dict(color = ('rgb(32, 51, 155)') , width = 6), opacity=0.75)\n",
    "\n",
    "trace3 = go.Scatter(\n",
    "    x = ranking, y = polyval(p3 , ranking),\n",
    "    name = 'Cubic model' , line = dict(color = ('rgb(249, 126, 32)') , width = 6), opacity=0.75)\n",
    "\n",
    "data = [trace0, trace1, trace2, trace3]\n",
    "\n",
    "# Edit the layout\n",
    "layout = dict(title = 'How movie rating changes with ranking',\n",
    "              xaxis = dict(title = 'Movie Ranking'),\n",
    "              yaxis = dict(title = 'IMDb rating'),\n",
    "              annotations=[\n",
    "                dict(x=120,y=8.28,xref='x',yref='y',text='0.82 Rsq',showarrow=True,arrowhead=7,ax=0,ay=-40\n",
    "                     , font=dict(family='Arial black',size=15,color='rgb(122, 122, 122)')),\n",
    "                dict(x=240,y=8.046,xref='x',yref='y',text='0.92 Rsq',showarrow=True,arrowhead=7,ax=0,ay=-40\n",
    "                     , font=dict(family='Arial black',size=15,color='rgb(32, 51, 155)')), \n",
    "                dict(x=200,y=8.08713,xref='x',yref='y',text='0.96 Rsq',showarrow=True,arrowhead=7,ax=0,ay=-40\n",
    "                     , font=dict(family='Arial black',size=15,color='rgb(249, 126, 32)'))\n",
    "              ]\n",
    "              )\n",
    "\n",
    "\n",
    "\n",
    "fig = dict(data=data, layout=layout)\n",
    "plot(fig, filename='../Plots/MovieRating_vs_Ranking.html', auto_open=True)\n"
   ]
  },
  {
   "cell_type": "code",
   "execution_count": 104,
   "metadata": {},
   "outputs": [
    {
     "name": "stdout",
     "output_type": "stream",
     "text": [
      "[INFO] Linear model RSquared: 0.826708647607\n",
      "[INFO] Quadratic model RSquared: 0.922868641639\n",
      "[INFO] Cubic model RSquared: 0.955138111232\n"
     ]
    }
   ],
   "source": [
    "\n",
    "# Calculate the Rsquared values for each model fit (linear, quadratic, cubic)\n",
    "\n",
    "\"\"\"\n",
    "\n",
    "# calculate the Rsq value for each model fit\n",
    "\n",
    "# lienar model\n",
    "y = rating\n",
    "yfit = p1[0] * np.array(ranking) + p1[1]\n",
    "yresid = y - yfit\n",
    "SSresid = sum(pow(yresid,2))\n",
    "SStotal = len(y) * var(y)\n",
    "rsq = 1 - SSresid / SStotal\n",
    "print(\"[INFO] Linear model RSquared: \"+ str(rsq))\n",
    "\n",
    "# quadratic model\n",
    "y = rating\n",
    "yfit = (p2[0]*(np.array(ranking)*np.array(ranking)))+ p2[1]*np.array(ranking)+ p2[2]\n",
    "yresid = y - yfit\n",
    "SSresid = sum(pow(yresid,2))\n",
    "SStotal = len(y) * var(y)\n",
    "rsq = 1 - SSresid / SStotal\n",
    "print(\"[INFO] Quadratic model RSquared: \"+ str(rsq))\n",
    "\n",
    "# cubic model\n",
    "y = rating\n",
    "yfit = polyval(p3 , ranking)\n",
    "yresid = y - yfit\n",
    "SSresid = sum(pow(yresid,2))\n",
    "SStotal = len(y) * var(y)\n",
    "rsq = 1 - SSresid / SStotal\n",
    "print(\"[INFO] Cubic model RSquared: \"+ str(rsq))\n",
    "\n",
    "\"\"\"\n"
   ]
  },
  {
   "cell_type": "markdown",
   "metadata": {},
   "source": [
    "## Boxplot distributions, ratings by genre"
   ]
  },
  {
   "cell_type": "code",
   "execution_count": 62,
   "metadata": {},
   "outputs": [
    {
     "data": {
      "text/plain": [
       "'file:///Users/jeremyirving/Codesets/Imdb_Top_Actors/Plots/Boxplot_Dist_By_Genre.html'"
      ]
     },
     "execution_count": 62,
     "metadata": {},
     "output_type": "execute_result"
    }
   ],
   "source": [
    "\n",
    "film_genres = [gen[3] for gen in film_ids]\n",
    "film_ratings = [float(rat[3]) for rat in table_data] \n",
    "film_names = [mov[1] for mov in table_data] \n",
    "\n",
    "film_genres_split = []\n",
    "film_ratings_split = []\n",
    "film_name_split = []\n",
    "\n",
    "for each_row, each_rating, each_name in zip(film_genres , film_ratings, film_names) :\n",
    "    for each_genre in each_row.split(\"|\"):\n",
    "        film_name_split.append(each_name)\n",
    "        film_genres_split.append(each_genre.strip())\n",
    "        film_ratings_split.append(each_rating)\n",
    "        \n",
    "df_genres_ratings = pd.DataFrame( {'Ratings': film_ratings_split, 'Genres': film_genres_split} )\n",
    "\n",
    "# order by median value\n",
    "sorted_by_value = dict(sorted(dict(df_genres_ratings.groupby(['Genres'])['Ratings'].median()).items(), key=lambda kv: -kv[1]))\n",
    "genre_order = list(sorted_by_value.keys())\n",
    "\n",
    "order = pd.DataFrame(df_genres_ratings.groupby(['Genres'])['Ratings'].median())\n",
    "order.reset_index(inplace = True)\n",
    "order.sort_values(['Ratings'], ascending=False, inplace=True)\n",
    "\n",
    "\n",
    "data = []\n",
    "for i in range(0,len(pd.unique(df_genres_ratings['Genres']))):\n",
    "    trace = {\n",
    "                \"type\": 'box',\n",
    "                \"jitter\" :1,\n",
    "                    \"pointpos\" :0,\n",
    "                    \"boxpoints\" :'all',        \n",
    "        \n",
    "                \"x\": df_genres_ratings['Genres'][df_genres_ratings['Genres'] == pd.unique(df_genres_ratings['Genres'])[i]],\n",
    "                \"y\": df_genres_ratings['Ratings'][df_genres_ratings['Genres'] == pd.unique(df_genres_ratings['Genres'])[i]],\n",
    "                \"name\": pd.unique(df_genres_ratings['Genres'])[i],\n",
    "                \"showlegend\": False,\n",
    "                \"marker\" : {'color':'rgb(32, 51, 155)'},\n",
    "                \"box\": {\"visible\": True},\n",
    "                \"meanline\": {\"visible\": True}\n",
    "            }\n",
    "    data.append(trace)\n",
    "    \n",
    "\n",
    "    \n",
    "fig = {\n",
    "    \"data\": data,\n",
    "    \"layout\" : {\n",
    "        \"title\": \"Boxplot of Movie Ratings, by Genre\",\n",
    "        \"yaxis\": {\"zeroline\": False},\n",
    "        \"xaxis\":{\"categoryarray\": list(order.Genres)}\n",
    "                }\n",
    "}\n",
    "\n",
    "\n",
    "plot(fig, filename='../Plots/Boxplot_Dist_By_Genre.html', validate = False)\n"
   ]
  },
  {
   "cell_type": "markdown",
   "metadata": {},
   "source": [
    "## ANALYSIS & PLOTS \n",
    "\n",
    "### Pt1 : Who are the best actors / actresses?\n",
    "\n",
    "- So this was the bit I was most interested in. Here we take a look at which actors and actresses appear (in the cast & crew listings) across all 250 movies, how many movies they appeared in and what those films were?\n",
    "- in the code snippet below we create an interactive plotly chart that allows the user to select the top N actors/actresses with the most film features. The film start with the highest number of features appear on the far left of the chart and appears in descending order.\n",
    "- Perhaps I'm not quite the film buff I first thought but, to my suprise, the first actor I had heard of was in position five - **Robert De Niro** - who has appeared in eight of the top 250 films and is undoubtably a household name. \n",
    "- Interestingly, **John Ratzenberger** has 'appeared' in more of the Top 250 movies than any other actor - a whopping 12 x movies. However, 10 x of these were animation films - so he didn't even 'appear' in them at all. **Bess Flowers**, in position two, featured in 10 of the Top 250 movies but all before the 1970s.\n",
    "- In third position, Joseph Oliveira, was an quirky find - whilst he's featured in 9 of the Top 250 movies, he's only played 'supporting' or uncredited roles in each. For example:\n",
    "Dark Knight - a walk on officer, https://www.imdb.com/title/tt0468569/fullcredits?ref_=tt_cl_sm#cast\n",
    "uncredited role as 'Marciano' in Goodfellas https://www.imdb.com/title/tt0099685/fullcredits?ref_=tt_cl_sm#cast\n",
    "The Departed, again an uncredited Officer\n",
    "Court Room Attendant (uncredited) in Wolf of Wall Street https://www.imdb.com/title/tt0993846/fullcredits\n"
   ]
  },
  {
   "cell_type": "markdown",
   "metadata": {},
   "source": [
    "## Pie Chart - Movie count per cast member"
   ]
  },
  {
   "cell_type": "code",
   "execution_count": 18,
   "metadata": {},
   "outputs": [],
   "source": [
    "\n",
    "# prepare data for charts\n",
    "\n",
    "movies_list = [mv[1] for mv in table_data]\n",
    "\n",
    "def actorsAllMovies(base_castAndCrew , movies_list , topNCount):\n",
    "\n",
    "    \n",
    "    cast_dictionary = {}\n",
    "    cast_movie_dict = {}    \n",
    "    ordered_appearance = []\n",
    "    ordered_app_num = []    \n",
    "    \n",
    "    # (1) CREATE ACTOR/ACTRESS DICTIONARY with MOVIE COUNTER (i.e. ACTORNAME : MOVIECOUNT)\n",
    "    \n",
    "    # for each cast member, across all movies, append to dictionary\n",
    "    # create counter for each cast member (i.e. counter = number of movies featured in)\n",
    "    for film_cast in base_castAndCrew:\n",
    "        for cast_member in film_cast:\n",
    "            if not str(cast_member).lower() in cast_dictionary:\n",
    "                cast_dictionary[cast_member.lower()] = 1\n",
    "            else:\n",
    "                cast_dictionary[cast_member.lower()] += 1\n",
    "                \n",
    "    # sort dictionary by movie count           \n",
    "    cast_dictionary = sorted(cast_dictionary.items(), key=lambda kv: -kv[1])\n",
    "\n",
    "    \n",
    "    # (2) CREATE DICTIONARY WITH ACTOR NAME AND MOVIES FEATURED IN (i.e. ACTORNAME : MOVIES)\n",
    "    \n",
    "    for movie, cast in zip(movies_list, base_castAndCrew):\n",
    "        for cast_member in cast:\n",
    "            cast_member_lower = cast_member.lower()\n",
    "            if not str(cast_member).lower() in cast_movie_dict:\n",
    "                cast_movie_dict[cast_member_lower] = [movie]\n",
    "            else:\n",
    "                cast_movie_dict[cast_member_lower].append( movie )\n",
    "                \n",
    "    # (3) CREATE LISTS OF ACTORS/MOVIES ABOUT A THRESHOLD MOVIE COUNT           \n",
    "\n",
    "    for idx, name in enumerate(cast_dictionary):\n",
    "        if cast_dictionary[idx][1] > topNCount:\n",
    "            ordered_appearance.append(  str(cast_dictionary[idx][0]) )\n",
    "            ordered_app_num.append( cast_dictionary[idx][1] ) \n",
    "            \n",
    "    return( cast_dictionary ,  cast_movie_dict ,  ordered_appearance , ordered_app_num   )\n"
   ]
  },
  {
   "cell_type": "code",
   "execution_count": 24,
   "metadata": {},
   "outputs": [
    {
     "data": {
      "text/plain": [
       "'file:///Users/jeremyirving/Codesets/Imdb_Top_Actors/Plots/PieChart_MovieCount.html'"
      ]
     },
     "execution_count": 24,
     "metadata": {},
     "output_type": "execute_result"
    }
   ],
   "source": [
    "\n",
    "cast_dict1 , cast_movie_dict1 , ordered_appearance1 , ordered_app_number1 = \\\n",
    "        actorsAllMovies(base_castAndCrew , movies_list , 0 )\n",
    "    \n",
    "df_ActorsNumber = pd.DataFrame({'Name': ordered_appearance1 , 'MovieCount': ordered_app_number1})\n",
    "\n",
    "summ_movie_count = pd.DataFrame(df_ActorsNumber.MovieCount.value_counts())\n",
    "summ_movie_count.reset_index(inplace = True)\n",
    "summ_movie_count.columns = ['MovieCount', 'ActorCount']\n",
    "\n",
    "summ_movie_count['MoveCountBanded'] = np.where(summ_movie_count['MovieCount'] > 3, 4, summ_movie_count['MovieCount'])\n",
    "summ_movie_count['MoveCountBanded_str'] = np.where(summ_movie_count['MoveCountBanded'] == 4, '4+ movies'\n",
    "                                                    , np.where(summ_movie_count['MoveCountBanded'] == 1, '1 movie'\n",
    "                                                     , np.where(summ_movie_count['MoveCountBanded'] == 2, '2 movies'\n",
    "                                                      , np.where(summ_movie_count['MoveCountBanded'] == 3, '3 movies', 'Missing'))))                                              \n",
    "                                                  \n",
    "labels = list(summ_movie_count.MoveCountBanded_str)\n",
    "values = list(summ_movie_count.ActorCount)\n",
    "colors = ['rgb(32, 51, 155)', 'rgb(249, 126, 32)', 'rgb(34, 155, 38)', 'rgb(153, 26, 142)']\n",
    "\n",
    "trace = go.Pie(    labels = labels\n",
    "                  , values = values\n",
    "                  , hoverinfo='label+percent'\n",
    "                  , textinfo='value'\n",
    "                  , textfont=dict(size=15)\n",
    "                  , opacity = 0.8\n",
    "                  , textposition='outside'\n",
    "                  , marker = dict(colors = colors,\n",
    "                           line=dict(color='#f7f7f7'\n",
    "                                     , width=1)))\n",
    "\n",
    "data = [trace]\n",
    "layout = go.Layout(title='Number of Top 250 movie features, per actor')\n",
    "fig = dict(data = data, layout=layout)\n",
    "plot(fig , filename = '../Plots/PieChart_MovieCount.html', auto_open=True)\n"
   ]
  },
  {
   "cell_type": "markdown",
   "metadata": {},
   "source": [
    "## Bar Chart - Number of movie features per actor/actress (5+ movies)"
   ]
  },
  {
   "cell_type": "code",
   "execution_count": 28,
   "metadata": {},
   "outputs": [
    {
     "data": {
      "text/plain": [
       "'file:///Users/jeremyirving/Codesets/Imdb_Top_Actors/Plots/TopActors.html'"
      ]
     },
     "execution_count": 28,
     "metadata": {},
     "output_type": "execute_result"
    }
   ],
   "source": [
    "# plot number of films starred in descending\n",
    "# labels / hover to display list of films per star\n",
    "\n",
    "cast_dict2 , cast_movie_dict2 , ordered_appearance2, ordered_app_number2 = \\\n",
    "        actorsAllMovies(base_castAndCrew , movies_list , 4 )\n",
    "    \n",
    "film_list = []\n",
    "for name in ordered_appearance2:\n",
    "    film_list.append( cast_movie_dict2[name] )\n",
    "    \n",
    "ordered_appearance_final = []\n",
    "for cast in ordered_appearance2:\n",
    "    ordered_appearance_final.append(cast.title())\n",
    "     \n",
    "trace0 = go.Bar(\n",
    "    x = ordered_appearance_final ,\n",
    "    y = ordered_app_number2,\n",
    "    text = film_list,\n",
    "    marker=dict(\n",
    "        color='rgb(249, 126, 32)',\n",
    "        line=dict(color='rgb(86, 38, 1)',width=1.5,)),opacity=0.5)\n",
    "\n",
    "data = [trace0]\n",
    "layout = go.Layout(title='Number of film Imdb Top 250 film features'\n",
    "                   , xaxis=dict(tickangle=45))\n",
    "\n",
    "fig = dict(data = data, layout=layout)\n",
    "plot(fig , filename = '../Plots/TopActors.html', auto_open=True)\n"
   ]
  }
 ],
 "metadata": {
  "kernelspec": {
   "display_name": "Python 3",
   "language": "python",
   "name": "python3"
  },
  "language_info": {
   "codemirror_mode": {
    "name": "ipython",
    "version": 3
   },
   "file_extension": ".py",
   "mimetype": "text/x-python",
   "name": "python",
   "nbconvert_exporter": "python",
   "pygments_lexer": "ipython3",
   "version": "3.6.3"
  }
 },
 "nbformat": 4,
 "nbformat_minor": 2
}
